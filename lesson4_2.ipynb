{
 "cells": [
  {
   "cell_type": "code",
   "execution_count": 8,
   "metadata": {},
   "outputs": [],
   "source": [
    "#自訂的function,1個參數\n",
    "def get_factor(paral):\n",
    "    print(f\"{paral}的因數是:\")\n",
    "    for i in range(1,paral+1):\n",
    "       if paral % i == 0:\n",
    "          print(i)\n",
    "    print(\"=========結束\")"
   ]
  },
  {
   "cell_type": "code",
   "execution_count": 10,
   "metadata": {},
   "outputs": [
    {
     "name": "stdout",
     "output_type": "stream",
     "text": [
      "30的因數是:\n",
      "1\n",
      "2\n",
      "3\n",
      "5\n",
      "6\n",
      "10\n",
      "15\n",
      "30\n",
      "=========結束\n"
     ]
    }
   ],
   "source": [
    "get_factor(30)"
   ]
  },
  {
   "cell_type": "code",
   "execution_count": 11,
   "metadata": {},
   "outputs": [
    {
     "name": "stdout",
     "output_type": "stream",
     "text": [
      "78的因數是:\n",
      "1\n",
      "2\n",
      "3\n",
      "6\n",
      "13\n",
      "26\n",
      "39\n",
      "78\n",
      "=========結束\n",
      "95的因數是:\n",
      "1\n",
      "5\n",
      "19\n",
      "95\n",
      "=========結束\n",
      "107的因數是:\n",
      "1\n",
      "107\n",
      "=========結束\n",
      "45的因數是:\n",
      "1\n",
      "3\n",
      "5\n",
      "9\n",
      "15\n",
      "45\n",
      "=========結束\n"
     ]
    }
   ],
   "source": [
    "nums = [78,95,107,45]\n",
    "for num in nums:\n",
    "    get_factor(num)"
   ]
  },
  {
   "cell_type": "code",
   "execution_count": 16,
   "metadata": {},
   "outputs": [
    {
     "name": "stdout",
     "output_type": "stream",
     "text": [
      "78的因數是:\n",
      "1\n",
      "2\n",
      "3\n",
      "6\n",
      "13\n",
      "26\n",
      "39\n",
      "78\n",
      "=========結束\n",
      "95的因數是:\n",
      "1\n",
      "5\n",
      "19\n",
      "95\n",
      "=========結束\n",
      "107的因數是:\n",
      "1\n",
      "107\n",
      "=========結束\n",
      "45的因數是:\n",
      "1\n",
      "3\n",
      "5\n",
      "9\n",
      "15\n",
      "45\n",
      "=========結束\n",
      "25的因數是:\n",
      "1\n",
      "5\n",
      "25\n",
      "=========結束\n"
     ]
    }
   ],
   "source": [
    "#修改list直接放在for in,且變數可以增加\n",
    "for nums in [78, 95, 107, 45, 25]:\n",
    "    get_factor(nums)"
   ]
  }
 ],
 "metadata": {
  "kernelspec": {
   "display_name": "Python 3",
   "language": "python",
   "name": "python3"
  },
  "language_info": {
   "codemirror_mode": {
    "name": "ipython",
    "version": 3
   },
   "file_extension": ".py",
   "mimetype": "text/x-python",
   "name": "python",
   "nbconvert_exporter": "python",
   "pygments_lexer": "ipython3",
   "version": "3.9.16"
  },
  "orig_nbformat": 4
 },
 "nbformat": 4,
 "nbformat_minor": 2
}
