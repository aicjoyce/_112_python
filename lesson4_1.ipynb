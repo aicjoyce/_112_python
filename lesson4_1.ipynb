{
 "cells": [
  {
   "attachments": {},
   "cell_type": "markdown",
   "metadata": {},
   "source": [
    "while(bool) 迴圈\n",
    "在外部建立變數和比較,邏輯運算子"
   ]
  },
  {
   "cell_type": "code",
   "execution_count": 2,
   "metadata": {},
   "outputs": [
    {
     "name": "stdout",
     "output_type": "stream",
     "text": [
      "總共存了6月,共存了30000\n"
     ]
    }
   ],
   "source": [
    "#小明想要存錢買一輛機車,機車每輛30000元,他將每月存的錢輸入,當存款足夠買機車時,就顥示提示訊息告知\n",
    "\n",
    "deposit = 0\n",
    "num = 0\n",
    "while(deposit < 30000):\n",
    "    num += 1\n",
    "    input_value = int(input(f\"請輸入第{num}月份的存款:\"))\n",
    "    deposit += input_value\n",
    "\n",
    "print(f\"總共存了{num}月,共存了{deposit}\")"
   ]
  },
  {
   "cell_type": "code",
   "execution_count": 4,
   "metadata": {},
   "outputs": [
    {
     "name": "stdout",
     "output_type": "stream",
     "text": [
      "總共存了5月,共存了30000\n"
     ]
    }
   ],
   "source": [
    "deposit = 0\n",
    "num = 0\n",
    "while(True):\n",
    "    num += 1\n",
    "    input_value = int(input(f\"請輸入第{num}月份的存款:\"))\n",
    "    deposit += input_value\n",
    "    if(deposit >= 30000):\n",
    "        break\n",
    " \n",
    "print(f\"總共存了{num}月,共存了{deposit}\")"
   ]
  },
  {
   "cell_type": "code",
   "execution_count": 5,
   "metadata": {},
   "outputs": [
    {
     "name": "stdout",
     "output_type": "stream",
     "text": [
      "所有輸入的正偶數加總是:30\n"
     ]
    }
   ],
   "source": [
    "\n",
    "num = 0\n",
    "sum = 0\n",
    "while(True):\n",
    "    num += 1\n",
    "    input_num =int(input(f\"請輸入第{num}個數值:\"))\n",
    "    if input_num < 0:\n",
    "        break\n",
    "    elif input_num % 2 == 1:\n",
    "        continue\n",
    "    else:\n",
    "        sum += input_num\n",
    "print(f\"所有輸入的正偶數加總是:{sum}\")\n",
    "\n"
   ]
  }
 ],
 "metadata": {
  "kernelspec": {
   "display_name": "Python 3",
   "language": "python",
   "name": "python3"
  },
  "language_info": {
   "codemirror_mode": {
    "name": "ipython",
    "version": 3
   },
   "file_extension": ".py",
   "mimetype": "text/x-python",
   "name": "python",
   "nbconvert_exporter": "python",
   "pygments_lexer": "ipython3",
   "version": "3.9.16"
  },
  "orig_nbformat": 4
 },
 "nbformat": 4,
 "nbformat_minor": 2
}
